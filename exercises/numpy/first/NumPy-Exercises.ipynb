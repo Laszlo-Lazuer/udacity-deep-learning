{
 "cells": [
  {
   "cell_type": "markdown",
   "metadata": {},
   "source": [
    "## Element-wise vector scalar addition\n",
    "### Exercise using numPy for \n",
    "\n",
    "Adding  5  +  [1,2,3,4,5]"
   ]
  },
  {
   "cell_type": "code",
   "execution_count": 2,
   "metadata": {
    "collapsed": false
   },
   "outputs": [
    {
     "name": "stdout",
     "output_type": "stream",
     "text": [
      "Adding 5 to values:\n",
      "Original Vector: [1, 2, 3, 4, 5]\n",
      "Resulting vector: [ 6  7  8  9 10]\n"
     ]
    }
   ],
   "source": [
    "# file: scalar_+_vector.py\n",
    "# Author: A. Laszlo Lazuer\n",
    "# date: 04/26/17\n",
    "# Python Version: 3.x\n",
    "# Description: Following tutorial from Deep Learning nano Degree\n",
    "# Github for example: https://github.com/llSourcell/linear_regression_liveimport numpy as np\n",
    "\n",
    "##Add a scalar to a vector using numPY\n",
    "\n",
    "import numpy as np\n",
    "\n",
    "values = [1,2,3,4,5]\n",
    "original_values = values\n",
    "values = np.array(values) + 5\n",
    "print(\"Adding 5 to values:\\nOriginal Vector: {0}\\nResulting vector: {1}\".format(original_values, values))"
   ]
  },
  {
   "cell_type": "code",
   "execution_count": null,
   "metadata": {
    "collapsed": true
   },
   "outputs": [],
   "source": []
  }
 ],
 "metadata": {
  "anaconda-cloud": {},
  "kernelspec": {
   "display_name": "Python [conda env:py35]",
   "language": "python",
   "name": "conda-env-py35-py"
  },
  "language_info": {
   "codemirror_mode": {
    "name": "ipython",
    "version": 3
   },
   "file_extension": ".py",
   "mimetype": "text/x-python",
   "name": "python",
   "nbconvert_exporter": "python",
   "pygments_lexer": "ipython3",
   "version": "3.5.2"
  }
 },
 "nbformat": 4,
 "nbformat_minor": 2
}
